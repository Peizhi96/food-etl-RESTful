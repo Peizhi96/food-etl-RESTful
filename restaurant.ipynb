{
 "cells": [
  {
   "cell_type": "code",
   "execution_count": 35,
   "metadata": {},
   "outputs": [],
   "source": [
    "import pandas as pd"
   ]
  },
  {
   "cell_type": "code",
   "execution_count": 36,
   "metadata": {},
   "outputs": [],
   "source": [
    "df = pd.read_csv('restaurants.csv')"
   ]
  },
  {
   "cell_type": "code",
   "execution_count": 37,
   "metadata": {},
   "outputs": [
    {
     "name": "stdout",
     "output_type": "stream",
     "text": [
      "<class 'pandas.core.frame.DataFrame'>\n",
      "RangeIndex: 360 entries, 0 to 359\n",
      "Data columns (total 10 columns):\n",
      " #   Column              Non-Null Count  Dtype  \n",
      "---  ------              --------------  -----  \n",
      " 0   name                360 non-null    object \n",
      " 1   address             360 non-null    object \n",
      " 2   longitude           360 non-null    float64\n",
      " 3   latitude            360 non-null    float64\n",
      " 4   rating              360 non-null    float64\n",
      " 5   price_level         330 non-null    float64\n",
      " 6   user_ratings_total  360 non-null    int64  \n",
      " 7   open_now            360 non-null    bool   \n",
      " 8   types               360 non-null    object \n",
      " 9   category            360 non-null    object \n",
      "dtypes: bool(1), float64(4), int64(1), object(4)\n",
      "memory usage: 25.8+ KB\n"
     ]
    }
   ],
   "source": [
    "df.info()"
   ]
  },
  {
   "cell_type": "code",
   "execution_count": 38,
   "metadata": {},
   "outputs": [
    {
     "name": "stdout",
     "output_type": "stream",
     "text": [
      "name                   0\n",
      "address                0\n",
      "longitude              0\n",
      "latitude               0\n",
      "rating                 0\n",
      "price_level           30\n",
      "user_ratings_total     0\n",
      "open_now               0\n",
      "types                  0\n",
      "category               0\n",
      "dtype: int64\n"
     ]
    }
   ],
   "source": [
    "#print all these null columns\n",
    "print(df.isnull().sum())"
   ]
  },
  {
   "cell_type": "code",
   "execution_count": 39,
   "metadata": {},
   "outputs": [
    {
     "name": "stdout",
     "output_type": "stream",
     "text": [
      "                          name                          address   longitude  \\\n",
      "0        Golden Dragon Chinese       1754 S Grand Ave, Glendora -117.872205   \n",
      "1               Century Dragon      3711 Magnolia Blvd, Burbank -118.347561   \n",
      "2    China garden Chinese food      1211 S Soto St, Los Angeles -118.219812   \n",
      "3                   Fat Dragon    3500 Sunset Blvd, Los Angeles -118.276850   \n",
      "4                   Sea Dragon     101 Vermont Ave, Los Angeles -118.292248   \n",
      "..                         ...                              ...         ...   \n",
      "355    WeHo Thai Noodle & Rice    7075 Sunset Blvd, Los Angeles -118.343966   \n",
      "356         SPICY NOODLE HOUSE    68 Rio Rancho Rd #106, Pomona -117.760747   \n",
      "357            Qin West Noodle  1767 Westwood Blvd, Los Angeles -118.438224   \n",
      "358       Wen Hui Noodle Hours  644 W Garvey Ave, Monterey Park -118.131486   \n",
      "359               Noodle House  958 E Garvey Ave, Monterey Park -118.109625   \n",
      "\n",
      "      latitude  rating  price_level  user_ratings_total  open_now  \\\n",
      "0    34.106874     4.3          1.0                 285      True   \n",
      "1    34.167902     4.4          1.0                 371      True   \n",
      "2    34.027858     4.4          1.0                 117      True   \n",
      "3    34.088565     4.0          1.0                  97      True   \n",
      "4    34.072577     4.3          1.0                 331      True   \n",
      "..         ...     ...          ...                 ...       ...   \n",
      "355  34.098565     4.3          1.0                 262      True   \n",
      "356  34.028138     4.4          2.0                  62      True   \n",
      "357  34.050568     4.5          1.0                 913      True   \n",
      "358  34.062155     4.3          2.0                 108      True   \n",
      "359  34.062166     3.3          1.0                 102      True   \n",
      "\n",
      "                                                 types    category  \n",
      "0    meal_takeaway, restaurant, point_of_interest, ...  restaurant  \n",
      "1    restaurant, point_of_interest, food, establish...  restaurant  \n",
      "2    restaurant, point_of_interest, food, establish...  restaurant  \n",
      "3    restaurant, point_of_interest, food, establish...  restaurant  \n",
      "4    restaurant, point_of_interest, food, establish...  restaurant  \n",
      "..                                                 ...         ...  \n",
      "355  restaurant, food, point_of_interest, establish...  restaurant  \n",
      "356  restaurant, food, point_of_interest, establish...  restaurant  \n",
      "357  restaurant, food, point_of_interest, establish...  restaurant  \n",
      "358  restaurant, food, point_of_interest, establish...  restaurant  \n",
      "359  meal_takeaway, restaurant, food, point_of_inte...  restaurant  \n",
      "\n",
      "[337 rows x 10 columns]\n"
     ]
    }
   ],
   "source": [
    "#delete rows with the same address\n",
    "df_filter = df.drop_duplicates(subset='address')\n",
    "print(df_filter)\n",
    "df_filter.to_csv('restaurants_clean.csv', index=False)"
   ]
  },
  {
   "cell_type": "code",
   "execution_count": 40,
   "metadata": {},
   "outputs": [
    {
     "name": "stdout",
     "output_type": "stream",
     "text": [
      "<class 'pandas.core.frame.DataFrame'>\n",
      "RangeIndex: 337 entries, 0 to 336\n",
      "Data columns (total 10 columns):\n",
      " #   Column              Non-Null Count  Dtype  \n",
      "---  ------              --------------  -----  \n",
      " 0   name                337 non-null    object \n",
      " 1   address             337 non-null    object \n",
      " 2   longitude           337 non-null    float64\n",
      " 3   latitude            337 non-null    float64\n",
      " 4   rating              337 non-null    float64\n",
      " 5   price_level         310 non-null    float64\n",
      " 6   user_ratings_total  337 non-null    int64  \n",
      " 7   open_now            337 non-null    bool   \n",
      " 8   types               337 non-null    object \n",
      " 9   category            337 non-null    object \n",
      "dtypes: bool(1), float64(4), int64(1), object(4)\n",
      "memory usage: 24.2+ KB\n",
      "None\n"
     ]
    }
   ],
   "source": [
    "df_clean = pd.read_csv('restaurants_clean.csv')\n",
    "print(df_clean.info())"
   ]
  },
  {
   "cell_type": "code",
   "execution_count": 41,
   "metadata": {},
   "outputs": [],
   "source": [
    "df_clean['price_level'] = df_clean['price_level'].fillna(0)"
   ]
  },
  {
   "cell_type": "code",
   "execution_count": 42,
   "metadata": {},
   "outputs": [
    {
     "data": {
      "text/plain": [
       "price_level\n",
       "1.0    171\n",
       "2.0    138\n",
       "0.0     27\n",
       "3.0      1\n",
       "Name: count, dtype: int64"
      ]
     },
     "execution_count": 42,
     "metadata": {},
     "output_type": "execute_result"
    }
   ],
   "source": [
    "df_clean.price_level.value_counts()"
   ]
  },
  {
   "cell_type": "code",
   "execution_count": 43,
   "metadata": {},
   "outputs": [
    {
     "name": "stdout",
     "output_type": "stream",
     "text": [
      "48\n"
     ]
    }
   ],
   "source": [
    "# print out how many rows in dataset when category == drinking\n",
    "num_rows = df[df['category'] == 'drinking'].shape[0]\n",
    "print(num_rows)"
   ]
  },
  {
   "cell_type": "code",
   "execution_count": 56,
   "metadata": {},
   "outputs": [
    {
     "name": "stdout",
     "output_type": "stream",
     "text": [
      "                          name                          address   longitude  \\\n",
      "0        Golden Dragon Chinese       1754 S Grand Ave, Glendora -117.872205   \n",
      "1               Century Dragon      3711 Magnolia Blvd, Burbank -118.347561   \n",
      "2    China garden Chinese food      1211 S Soto St, Los Angeles -118.219812   \n",
      "3                   Fat Dragon    3500 Sunset Blvd, Los Angeles -118.276850   \n",
      "4                   Sea Dragon     101 Vermont Ave, Los Angeles -118.292248   \n",
      "..                         ...                              ...         ...   \n",
      "332    WeHo Thai Noodle & Rice    7075 Sunset Blvd, Los Angeles -118.343966   \n",
      "333         SPICY NOODLE HOUSE    68 Rio Rancho Rd #106, Pomona -117.760747   \n",
      "334            Qin West Noodle  1767 Westwood Blvd, Los Angeles -118.438224   \n",
      "335       Wen Hui Noodle Hours  644 W Garvey Ave, Monterey Park -118.131486   \n",
      "336               Noodle House  958 E Garvey Ave, Monterey Park -118.109625   \n",
      "\n",
      "      latitude  rating  price_level  user_ratings_total  open_now  \\\n",
      "0    34.106874     4.3          1.0                 285      True   \n",
      "1    34.167902     4.4          1.0                 371      True   \n",
      "2    34.027858     4.4          1.0                 117      True   \n",
      "3    34.088565     4.0          1.0                  97      True   \n",
      "4    34.072577     4.3          1.0                 331      True   \n",
      "..         ...     ...          ...                 ...       ...   \n",
      "332  34.098565     4.3          1.0                 262      True   \n",
      "333  34.028138     4.4          2.0                  62      True   \n",
      "334  34.050568     4.5          1.0                 913      True   \n",
      "335  34.062155     4.3          2.0                 108      True   \n",
      "336  34.062166     3.3          1.0                 102      True   \n",
      "\n",
      "                                                 types    category  \\\n",
      "0    meal_takeaway, restaurant, point_of_interest, ...  restaurant   \n",
      "1    restaurant, point_of_interest, food, establish...  restaurant   \n",
      "2    restaurant, point_of_interest, food, establish...  restaurant   \n",
      "3    restaurant, point_of_interest, food, establish...  restaurant   \n",
      "4    restaurant, point_of_interest, food, establish...  restaurant   \n",
      "..                                                 ...         ...   \n",
      "332  restaurant, food, point_of_interest, establish...  restaurant   \n",
      "333  restaurant, food, point_of_interest, establish...  restaurant   \n",
      "334  restaurant, food, point_of_interest, establish...  restaurant   \n",
      "335  restaurant, food, point_of_interest, establish...  restaurant   \n",
      "336  meal_takeaway, restaurant, food, point_of_inte...  restaurant   \n",
      "\n",
      "                    street         county  \n",
      "0         1754 S Grand Ave       Glendora  \n",
      "1       3711 Magnolia Blvd        Burbank  \n",
      "2           1211 S Soto St    Los Angeles  \n",
      "3         3500 Sunset Blvd    Los Angeles  \n",
      "4          101 Vermont Ave    Los Angeles  \n",
      "..                     ...            ...  \n",
      "332       7075 Sunset Blvd    Los Angeles  \n",
      "333  68 Rio Rancho Rd #106         Pomona  \n",
      "334     1767 Westwood Blvd    Los Angeles  \n",
      "335       644 W Garvey Ave  Monterey Park  \n",
      "336       958 E Garvey Ave  Monterey Park  \n",
      "\n",
      "[337 rows x 12 columns]\n"
     ]
    }
   ],
   "source": [
    "# create a location dataframe with all address in df_clean\n",
    "df_clean[['street', 'county']] = df_clean['address'].str.split(',', n=1, expand=True)\n",
    "df_clean['county'] = df_clean['county'].str.strip()\n",
    "df_clean['street'] = df_clean['street'].str.strip()\n",
    "\n",
    "print(df_clean)\n",
    "\n",
    "# create a new dataframe with only street, city, longitude, latitude\n",
    "location_df = df_clean[['street', 'county', 'longitude', 'latitude']].copy()\n",
    "location_df['longitude'] = df_clean['longitude']\n",
    "location_df['latitude'] = df_clean['latitude']\n",
    "\n",
    "\n",
    "location_df.to_csv('location.csv', index=False)\n"
   ]
  },
  {
   "cell_type": "code",
   "execution_count": 57,
   "metadata": {},
   "outputs": [],
   "source": [
    "reviews_df = df[['name', 'rating', 'user_ratings_total']].copy()\n",
    "reviews_df = reviews_df.rename(columns={'user_ratings_total': 'total_reviews'})\n",
    "reviews_df.to_csv('reviews.csv', index=False)"
   ]
  },
  {
   "cell_type": "code",
   "execution_count": 58,
   "metadata": {},
   "outputs": [],
   "source": [
    "restaurants_df = df[['name', 'address', 'rating', 'price_level', 'open_now']].copy()\n",
    "restaurants_df.to_csv('restaurants.csv', index=False)"
   ]
  },
  {
   "cell_type": "code",
   "execution_count": 63,
   "metadata": {},
   "outputs": [
    {
     "name": "stdout",
     "output_type": "stream",
     "text": [
      "Requirement already satisfied: sqlalchemy in ./data_eng_env/lib/python3.12/site-packages (2.0.32)\n",
      "Requirement already satisfied: typing-extensions>=4.6.0 in ./data_eng_env/lib/python3.12/site-packages (from sqlalchemy) (4.12.2)\n",
      "Collecting psycopg2-binary\n",
      "  Using cached psycopg2_binary-2.9.9-cp312-cp312-macosx_11_0_arm64.whl.metadata (4.4 kB)\n",
      "Using cached psycopg2_binary-2.9.9-cp312-cp312-macosx_11_0_arm64.whl (2.6 MB)\n",
      "Installing collected packages: psycopg2-binary\n",
      "Successfully installed psycopg2-binary-2.9.9\n"
     ]
    }
   ],
   "source": [
    "!pip3 install sqlalchemy\n",
    "!pip3 install psycopg2-binary"
   ]
  },
  {
   "cell_type": "code",
   "execution_count": 64,
   "metadata": {},
   "outputs": [],
   "source": [
    "from sqlalchemy import create_engine # type: ignore\n",
    "engine = create_engine('postgresql://postgres@localhost:5432/food') # type: ignore\n",
    "con = engine.connect()\n",
    "location_df.to_sql('location', con, if_exists='append',index=False,chunksize=10000)\n",
    "reviews_df.to_sql('review', con, if_exists='append',index=False,chunksize=10000)\n",
    "restaurants_df.to_sql('restaurant', con, if_exists='append',index=False,chunksize=10000)\n",
    "\n",
    "\n",
    "con.close()"
   ]
  }
 ],
 "metadata": {
  "kernelspec": {
   "display_name": "data_eng_env",
   "language": "python",
   "name": "python3"
  },
  "language_info": {
   "codemirror_mode": {
    "name": "ipython",
    "version": 3
   },
   "file_extension": ".py",
   "mimetype": "text/x-python",
   "name": "python",
   "nbconvert_exporter": "python",
   "pygments_lexer": "ipython3",
   "version": "3.12.5"
  }
 },
 "nbformat": 4,
 "nbformat_minor": 2
}
